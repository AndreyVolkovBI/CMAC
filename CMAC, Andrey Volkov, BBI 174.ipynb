{
 "cells": [
  {
   "cell_type": "markdown",
   "metadata": {},
   "source": [
    "## CMAC Assignment\n",
    "\n",
    "\n",
    "**Преподаватель:** Силаев Юрий Владимирович\n",
    "\n",
    "**Студент:** Волков Андрей Андреевич, ББИ 174"
   ]
  },
  {
   "cell_type": "markdown",
   "metadata": {},
   "source": [
    "## Оглавление\n",
    "\n",
    "- [Проблема восстановления пропущенных данных](#problem)\n",
    "- [Определение CMAC, области применения](#definition)\n",
    "- [Нейpосетевой подход к pешению задачи заполнения пpопусков](#neural)\n",
    "- [Разработка алгоритма для заполнения пропусков](#development)\n",
    "- [Реализация CMAC в библиотеке neupy](#neupy)\n",
    "- [Анализ таблицы метеорологических данных Австралии](#analysis)\n",
    "- [Источники](#)"
   ]
  },
  {
   "cell_type": "markdown",
   "metadata": {},
   "source": [
    "<div id='problem'/>\n",
    "\n",
    "## Проблема восстановления пропущенных данных"
   ]
  },
  {
   "cell_type": "markdown",
   "metadata": {},
   "source": [
    "Проблема обнаружения и восстановления пропущенных числовых данных встречается во многих прикладных задачах. Существует множество причин возникновения пропусков в обрабатываемых данных, среди которых выход из строя регистрирующей аппаратуры, плохие условия наблюдений, например, сильная облачность или туман, простая потеря части данных.\n",
    "\n",
    "Чаще всего эта задача возникает при обработке одномерных процессов, заданных строкой данных, и при обработке двумерных процессов, представляющих, например, изображения фрагментов местности, заданных в виде таблицы данных. К таким задачам относят, в первую очередь, задачи обработки метеорологических наблюдений и спутниковой схемки местности. "
   ]
  },
  {
   "cell_type": "markdown",
   "metadata": {},
   "source": [
    "<div id='definition'/>\n",
    "\n",
    "## Определение CMAC, области применения"
   ]
  },
  {
   "cell_type": "markdown",
   "metadata": {},
   "source": [
    "**CMAC** (Cerebellar model articulation controller) - нейронная сеть, в осонову которой положена нейрофизиологическая модель мозжечка для управления роботом-манипулятором.\n",
    "\n",
    "Основное назначение нейронных сетей — запоминание и воспроизведение функций многих переменных. Наиболее существенными отличиями **НС СМАС** от других нейронных сетей являются следующие:\n",
    "\n",
    "- аргументы запоминаемой и воспроизводимой функций принимают только дискретные значения\n",
    "- нелинейное преобразование аргументов функции происходит неявно с помощью алгоритма вычисления адресов ячеек ассоциативной памяти, в которых хранятся числа, определяющие значение функции\n",
    "\n",
    "В **НС СМАС** каждый входной N-мерный сигнал $х$ (аргумент функции) возбуждает, или делает активными, ровно $\\rho$ ячеек памяти, суммарное содержимое которых равно значению запоминаемой функции. Каждому входному N-мерному вектору $х$ однозначно соответствует $\\rho$-мерный вектор активных номеров ячеек памяти $m$. Параметр $\\rho$ (обобщающий параметр) играет очень важную роль, его значение определяет разрешающую способность **НС СМАС** и требуемый объем памяти нейронной сети.\n",
    "\n",
    "Алгоритм вычисления номеров активных ячеек памяти устроен так, что чем ближе друг к другу расположены входные вектора, тем больше у них общих ячеек памяти — именно это и придает **НС СМАС** интерполяционные свойства.\n",
    "\n",
    "Сегодня CMAC применяется для решения задач восстановления пропущенных данных в метеорологии, в двумерных изображениях, в звуковых файлах."
   ]
  },
  {
   "cell_type": "markdown",
   "metadata": {},
   "source": [
    "<div id='neural'/>\n",
    "\n",
    "## Нейpосетевой подход к pешению задачи заполнения пpопусков"
   ]
  },
  {
   "cell_type": "markdown",
   "metadata": {},
   "source": [
    "Эта задача относится к задаче оценивания функции $у$ в точке $х$ по ее значениям, заданным в соседних точках, а именно к задаче интерполяции, либо экстраполяции двумерных данных в случае с таблицами и одномерных данных в случае с рядами.\n",
    "\n",
    "Следует различать два основных подхода к решению задачи заполнения таблиц и рядов с пропусками: подходы, основанные на локальной и глобальной интерполяции или экстраполяции. \n",
    "\n",
    "В первом подходе строится аппроксимирующая функция по значениям функции $у(x)$, которые лежат в окрестности пропущенной точки, и значение аппроксимирующей функции в пропущенной точке принимается за пропущенное значение. \n",
    "\n",
    "Второй подход основан на нахождении аппроксимирующей функции для всей таблицы или всего ряда по непропущенным значениям и вычислении пропущенных значений функции по значениям аппроксимирующей функции в пропущенных точках. \n",
    "\n",
    "Большое число методов заполнения пропусков в таблицах и строках порождено большим числом существующих методов аппроксимации функций, которые, в свою очередь, порождены видом аппроксимирующих функций (степенные, тригонометрические, специально подобранные) и функционалом приближения аппроксимируемой и аппроксимирующей функций."
   ]
  },
  {
   "cell_type": "markdown",
   "metadata": {},
   "source": [
    "В качестве аппроксимирующих функций, как отмечалось выше, могут быть использованы и обучаемые искусственные нейронные сети. Основной алгоритм заполнения пропусков в таблицах и строках с помощью нейронных сетей состоит из следующих шагов.\n",
    "\n",
    "**Шаг 1.** Анализ таблицы или строки в целях принятия решения о локальном или глобальном подходе к задаче заполнения пропущенных данных.\n",
    "\n",
    "**Шаг 2.** Анализ таблицы или строки в целях автоматического выделения координат пропущенных и непропущенных данных.\n",
    "\n",
    "**Шаг 3.** Формирование обучающей выборки для нейронной сети из непропущенных данных и соответствующих им значений из таблицы или строки. Формирование множества координат пропущенных данных.\n",
    "\n",
    "**Шаг 4.** Обучение нейронной сети с помощью части множества непропущенных данных, в котором удалена первая точка непропущенных данных. Вычисление оценки непропущенного значения с помощью обученной нейронной сети абсолютного значения относительной ошибки оценки.\n",
    "\n",
    "**Шаг 5.** Повторение шага 4 при последовательном удалении либо всех, либо части непропущенных данных с вычислением оценок удаленных данных и абсолютных значений относительных ошибок их оценивания. Вычисление усредненной ошибки заполнения пропусков в таблице или строке по вычисленным абсолютным значениям относительных ошибок.\n",
    "\n",
    "**Шаг 6.** Если оценка ошибки заполнения пропусков удовлетворяет требованиям точности заполнения, то провести обучение на всем множестве непропущенных данных и вычислить оценки пропущенных данных последовательной подачей на вход обученной нейронной сети координат пропущенных данных и заполнить пропуски вычисленными данными.\n",
    "\n",
    "**Шаг 7.** Если оценка заполнения пропусков не удовлетворяет требованиям точности заполнения, то перейти к другой конфигурации нейронной сети и для нее повторить вычисления шагов 4—6, определив для новой конфигурации точность заполнения.\n",
    "\n",
    "**Шаг 8.** Шаг 7 повторять до тех пор, пока либо будет достигнута требуемая точность заполнения пропусков, либо будет выбран вариант конфигурации сети с минимально достигнутым абсолютным значением относительной ошибки заполнения из всех исследованных вариантов.\n",
    "\n",
    "**Шаг 9.** После выбора оптимального варианта конфигурации сети провести ее обучение на всем множестве непропущенных данных оценить значения пропущенных данных и внести их в таблицу."
   ]
  },
  {
   "cell_type": "markdown",
   "metadata": {},
   "source": [
    "<div id='development'/>\n",
    "\n",
    "## Разработка алгоритма для заполнения пропусков"
   ]
  },
  {
   "cell_type": "markdown",
   "metadata": {},
   "source": [
    "- Подготовить набор данных, обучающую и тестовые выборки\n",
    "- Обучение нейронной сети, подбор весов\n",
    "- Построение графиков аппроксимации и тестовой выборки"
   ]
  },
  {
   "cell_type": "code",
   "execution_count": 1,
   "metadata": {},
   "outputs": [],
   "source": [
    "import math\n",
    "import numpy as np\n",
    "import random\n",
    "import matplotlib.pyplot as plt\n",
    "import pandas as pd\n",
    "from sklearn.model_selection import train_test_split\n",
    "from prettytable import PrettyTable\n",
    "import warnings\n",
    "warnings.filterwarnings('ignore')"
   ]
  },
  {
   "cell_type": "markdown",
   "metadata": {},
   "source": [
    "### Подготовить набор данных, обучающую и тестовые выборки\n",
    "\n",
    "В качестве набора данных используем график функции $y = sin(x), x \\in [0; 2 \\pi]$"
   ]
  },
  {
   "cell_type": "code",
   "execution_count": 2,
   "metadata": {},
   "outputs": [],
   "source": [
    "min_range, max_range = 0, 2 * math.pi\n",
    "dataset_range = max_range - min_range\n",
    "\n",
    "dataset = np.linspace(min_range, max_range, 100)\n",
    "dataset = [round(i, 2) for i in list(dataset)]"
   ]
  },
  {
   "cell_type": "markdown",
   "metadata": {},
   "source": [
    "Напишем отдельную лямбду для преобразования массива аргументов в список значений функции $sin(x)$."
   ]
  },
  {
   "cell_type": "code",
   "execution_count": 3,
   "metadata": {},
   "outputs": [],
   "source": [
    "map_sin = lambda data : [round(math.sin(item), 2) for item in data]"
   ]
  },
  {
   "cell_type": "markdown",
   "metadata": {},
   "source": [
    "Из изначального набора данных выделим обучающую и тестовую выборку по следующему принципу.\n",
    "\n",
    "`тестовая выборка (test)` - каждый третий элемент (33% от общего набора данных)\n",
    "\n",
    "`обучающая выборка (train)` - все элементы, не вошедшие в тестовую выборку (66% от общего набора данных)"
   ]
  },
  {
   "cell_type": "code",
   "execution_count": 4,
   "metadata": {},
   "outputs": [],
   "source": [
    "def split_train_test(dataset):\n",
    "    test = [round(dataset[i], 2) for i in range(0, len(dataset), 3)]\n",
    "    train = [round(item, 2) for item in dataset if item not in test]\n",
    "    \n",
    "    return (train, test)"
   ]
  },
  {
   "cell_type": "markdown",
   "metadata": {},
   "source": [
    "Определим обучающие и тестовые выборки для нейронной сети, как для аргументов (x), так и для значений функции (y)."
   ]
  },
  {
   "cell_type": "code",
   "execution_count": 5,
   "metadata": {},
   "outputs": [],
   "source": [
    "train_x, test_x = split_train_test(dataset)\n",
    "train_y, test_y = map_sin(train_x), map_sin(test_x)"
   ]
  },
  {
   "cell_type": "code",
   "execution_count": 6,
   "metadata": {},
   "outputs": [
    {
     "data": {
      "text/plain": [
       "Text(0.5, 1.0, 'Обучающая выборка')"
      ]
     },
     "execution_count": 6,
     "metadata": {},
     "output_type": "execute_result"
    },
    {
     "data": {
      "image/png": "[encoded data removed]",
      "text/plain": [
       "<Figure size 432x288 with 1 Axes>"
      ]
     },
     "metadata": {
      "needs_background": "light"
     },
     "output_type": "display_data"
    }
   ],
   "source": [
    "plt.plot(train_x, train_y, 'b+')\n",
    "plt.title('Обучающая выборка')"
   ]
  },
  {
   "cell_type": "code",
   "execution_count": 7,
   "metadata": {},
   "outputs": [
    {
     "data": {
      "text/plain": [
       "Text(0.5, 1.0, 'Тестовая выборка')"
      ]
     },
     "execution_count": 7,
     "metadata": {},
     "output_type": "execute_result"
    },
    {
     "data": {
      "image/png": "[encoded data removed]",
      "text/plain": [
       "<Figure size 432x288 with 1 Axes>"
      ]
     },
     "metadata": {
      "needs_background": "light"
     },
     "output_type": "display_data"
    }
   ],
   "source": [
    "plt.plot(test_x, test_y, 'r+')\n",
    "plt.title('Тестовая выборка')"
   ]
  },
  {
   "cell_type": "markdown",
   "metadata": {},
   "source": [
    "Нормализируем обучающую и тестовую выборки на размер набора данных - `dataset_range` - для упрощения рассчетов. "
   ]
  },
  {
   "cell_type": "code",
   "execution_count": 8,
   "metadata": {},
   "outputs": [],
   "source": [
    "norm_data = lambda data : [item / dataset_range for item in data]\n",
    "\n",
    "train_x, test_x = norm_data(train_x), norm_data(test_x)"
   ]
  },
  {
   "cell_type": "markdown",
   "metadata": {},
   "source": [
    "### Обучение нейронной сети, подбор весов"
   ]
  },
  {
   "cell_type": "code",
   "execution_count": 9,
   "metadata": {},
   "outputs": [],
   "source": [
    "# кол-во весов\n",
    "weights_num = 50\n",
    "# изначально все веса равны 1\n",
    "weights = np.ones(weights_num)"
   ]
  },
  {
   "cell_type": "code",
   "execution_count": 10,
   "metadata": {},
   "outputs": [],
   "source": [
    "# общая ошибка, изначально установлено заведомо большое значение \n",
    "total_error = 1000\n",
    "# допустимое значение ошибки по модулю\n",
    "convergence_error = 0.01\n",
    "# фактор обобщения\n",
    "generalization_factor = 5\n",
    "# скорость обучения\n",
    "learning_rate = 0.03"
   ]
  },
  {
   "cell_type": "markdown",
   "metadata": {},
   "source": [
    "Алгоритм проходится по каждому элементу в обучающей выборке и присваивает соответствующие веса для каждого входного сигнала, в зависимости от его значения и фактора обобщения (generalization_factor).\n",
    "\n",
    "Для упрощения, были вынесены отдельные функции для получения ассоциативных весов, верхних и нижних границ."
   ]
  },
  {
   "cell_type": "code",
   "execution_count": 11,
   "metadata": {},
   "outputs": [],
   "source": [
    "def get_lower_limit(central_weight, generalization_factor):\n",
    "    result = central_weight - int(generalization_factor / 2) \n",
    "    return result if result >= 0 else 0"
   ]
  },
  {
   "cell_type": "code",
   "execution_count": 12,
   "metadata": {},
   "outputs": [],
   "source": [
    "def get_upper_limit(central_weight, generalization_factor, plus_number=0):\n",
    "    result = central_weight + int(generalization_factor / 2) + plus_number\n",
    "    return result if result <= weights_num else weights_num"
   ]
  },
  {
   "cell_type": "code",
   "execution_count": 13,
   "metadata": {},
   "outputs": [],
   "source": [
    "def get_associate_weights(generalization_factor, central_weight):\n",
    "    if generalization_factor % 2 != 0 and generalization_factor != 1:\n",
    "        lower_lim = get_lower_limit(central_weight, generalization_factor)\n",
    "        upper_lim = get_upper_limit(central_weight, generalization_factor, plus_number=1)\n",
    "        return [k for k in range(int(lower_lim), int(upper_lim))]\n",
    "    \n",
    "    elif generalization_factor == 1:\n",
    "        return [central_weight]\n",
    "            \n",
    "    else:\n",
    "        lower_lim = get_lower_limit(central_weight, generalization_factor)\n",
    "        upper_lim = get_upper_limit(central_weight, generalization_factor)\n",
    "        return [k for k in range(lower_lim, upper_lim)]"
   ]
  },
  {
   "cell_type": "code",
   "execution_count": 14,
   "metadata": {},
   "outputs": [],
   "source": [
    "while abs(total_error) > convergence_error:\n",
    "    total_error = 0\n",
    "    \n",
    "    for index, item in enumerate(train_x):\n",
    "        central_weight = int(item * weights_num)\n",
    "        \n",
    "        associate_weights = get_associate_weights(generalization_factor, central_weight)\n",
    "                \n",
    "        prediction = sum([weights[i] for i in associate_weights])\n",
    "        error = train_y[index] - prediction\n",
    "        total_error += error\n",
    "        error_per_weight = error / generalization_factor\n",
    "        \n",
    "        for weight in associate_weights:\n",
    "            weights[weight] = weights[weight] + learning_rate * error_per_weight"
   ]
  },
  {
   "cell_type": "code",
   "execution_count": 15,
   "metadata": {},
   "outputs": [],
   "source": [
    "test_prediction = []\n",
    "\n",
    "for item in test_x:\n",
    "    central_weight = int(item * weights_num)\n",
    "        \n",
    "    if generalization_factor % 2 != 0:\n",
    "        lower_lim = get_lower_limit(central_weight, generalization_factor)\n",
    "        upper_lim = get_upper_limit(central_weight, generalization_factor, plus_number=1)\n",
    "    else:\n",
    "        lower_lim = get_lower_limit(central_weight, generalization_factor)\n",
    "        upper_lim = get_upper_limit(central_weight, generalization_factor)\n",
    "        \n",
    "    associate_weights = [k for k in range(lower_lim, upper_lim)]\n",
    "    prediction = sum([weights[i] for i in associate_weights])\n",
    "    test_prediction.append(round(prediction, 2))"
   ]
  },
  {
   "cell_type": "markdown",
   "metadata": {},
   "source": [
    "### Построение графиков аппроксимации и тестовой выборки"
   ]
  },
  {
   "cell_type": "code",
   "execution_count": 16,
   "metadata": {},
   "outputs": [
    {
     "data": {
      "text/plain": [
       "Text(0.5, 1.0, 'Тестовая выборка')"
      ]
     },
     "execution_count": 16,
     "metadata": {},
     "output_type": "execute_result"
    },
    {
     "data": {
      "image/png": "[encoded data removed]",
      "text/plain": [
       "<Figure size 1440x504 with 2 Axes>"
      ]
     },
     "metadata": {
      "needs_background": "light"
     },
     "output_type": "display_data"
    }
   ],
   "source": [
    "plt.figure(figsize=(20, 7))\n",
    "\n",
    "plt.subplot(1, 2, 1)\n",
    "plt.plot(test_x, test_prediction)\n",
    "plt.title('Аппроксимирующие значения нейронной сети для графика y = sin(x)')\n",
    "\n",
    "plt.subplot(1, 2, 2)\n",
    "plt.plot(test_x, test_y)\n",
    "plt.title('Тестовая выборка')"
   ]
  },
  {
   "cell_type": "code",
   "execution_count": 17,
   "metadata": {},
   "outputs": [
    {
     "data": {
      "text/plain": [
       "<matplotlib.legend.Legend at 0x1968a9b3048>"
      ]
     },
     "execution_count": 17,
     "metadata": {},
     "output_type": "execute_result"
    },
    {
     "data": {
      "image/png": "[encoded data removed]",
      "text/plain": [
       "<Figure size 864x504 with 1 Axes>"
      ]
     },
     "metadata": {
      "needs_background": "light"
     },
     "output_type": "display_data"
    }
   ],
   "source": [
    "plt.figure(figsize=(12, 7))\n",
    "plt.plot(test_x, test_prediction, label='Аппроксимация')\n",
    "plt.plot(test_x, test_y, label='Тестовая выборка')\n",
    "plt.legend(bbox_to_anchor=(1.05, 1), loc='lower right', borderaxespad=0.)"
   ]
  },
  {
   "cell_type": "markdown",
   "metadata": {},
   "source": [
    "На картинке выше представлены два графика функции $y = sin(x)$ \n",
    "- `Test data` - тестовая выборка\n",
    "- `Prediction` - результирующая аппроксимирующая функция, полученнная с помошью нейронной сети\n",
    "\n",
    "Качество результатов обучения напрямую зависит от фактора обобщения (generalization_factor). Эмпирическим путем было выявлено, что лучше значение, максимально соответствующее тестовой выборке - 5, худшее - 23."
   ]
  },
  {
   "cell_type": "markdown",
   "metadata": {},
   "source": [
    "<div id='neupy'/>\n",
    "\n",
    "## Реализация CMAC в библиотеке [neupy](http://neupy.com/)"
   ]
  },
  {
   "cell_type": "markdown",
   "metadata": {},
   "source": [
    "Реализация аналогичной задачи с помощью библиотеки `neupy`."
   ]
  },
  {
   "cell_type": "code",
   "execution_count": 18,
   "metadata": {},
   "outputs": [],
   "source": [
    "import numpy as np\n",
    "import matplotlib.pyplot as plt\n",
    "\n",
    "from neupy import algorithms, utils"
   ]
  },
  {
   "cell_type": "code",
   "execution_count": 19,
   "metadata": {},
   "outputs": [],
   "source": [
    "X_train = np.reshape(np.linspace(0, 2 * np.pi, 100), (100, 1))\n",
    "X_test = np.reshape(np.sort(2 * np.pi * np.random.random(50)), (50, 1))\n",
    "\n",
    "y_train = np.sin(X_train)\n",
    "y_test = np.sin(X_test)"
   ]
  },
  {
   "cell_type": "code",
   "execution_count": 20,
   "metadata": {},
   "outputs": [
    {
     "name": "stdout",
     "output_type": "stream",
     "text": [
      "\n",
      "Main information\n",
      "\n",
      "[ALGORITHM] CMAC\n",
      "\r\n",
      "[OPTION] associative_unit_size = 10\n",
      "[OPTION] quantization = 100\n",
      "[OPTION] show_epoch = 100\n",
      "[OPTION] shuffle_data = False\n",
      "[OPTION] signals = None\n",
      "[OPTION] step = 0.2\n",
      "[OPTION] verbose = True\n",
      "\r\n"
     ]
    }
   ],
   "source": [
    "cmac = algorithms.CMAC(\n",
    "    quantization=100,\n",
    "    associative_unit_size=10,\n",
    "    step=0.2,\n",
    "    verbose=True,\n",
    "    show_epoch=100,\n",
    ")"
   ]
  },
  {
   "cell_type": "code",
   "execution_count": 21,
   "metadata": {},
   "outputs": [
    {
     "name": "stdout",
     "output_type": "stream",
     "text": [
      "#1 : [17 ms] train: 0.587329\n"
     ]
    },
    {
     "name": "stderr",
     "output_type": "stream",
     "text": [
      "                                                                               \r"
     ]
    },
    {
     "name": "stdout",
     "output_type": "stream",
     "text": [
      "#100 : [12 ms] train: 0.000001\n"
     ]
    },
    {
     "name": "stderr",
     "output_type": "stream",
     "text": [
      "\r",
      "                                                                               \r",
      "\r",
      "                                                                               \r",
      "\r",
      "                                                                               \r",
      "\r",
      "                                                                               \r",
      "\r",
      "                                                                               \r",
      "\r",
      "                                                                               \r",
      "\r",
      "                                                                               \r",
      "\r",
      "                                                                               \r",
      "\r",
      "                                                                               \r",
      "\r",
      "                                                                               \r",
      "\r",
      "                                                                               \r",
      "\r",
      "                                                                               \r",
      "\r",
      "                                                                               \r",
      "\r",
      "                                                                               \r",
      "\r",
      "                                                                               \r"
     ]
    }
   ],
   "source": [
    "cmac.train(X_train, y_train, epochs=100)"
   ]
  },
  {
   "cell_type": "code",
   "execution_count": 22,
   "metadata": {},
   "outputs": [],
   "source": [
    "predicted_test = cmac.predict(X_test)"
   ]
  },
  {
   "cell_type": "code",
   "execution_count": 23,
   "metadata": {
    "scrolled": true
   },
   "outputs": [
    {
     "data": {
      "image/png": "[encoded data removed]",
      "text/plain": [
       "<Figure size 432x288 with 1 Axes>"
      ]
     },
     "metadata": {
      "needs_background": "light"
     },
     "output_type": "display_data"
    }
   ],
   "source": [
    "plt.plot(X_train, y_train)\n",
    "plt.plot(X_test, predicted_test)\n",
    "plt.show()"
   ]
  },
  {
   "cell_type": "markdown",
   "metadata": {},
   "source": [
    "На картинке выше представлены два графика функции $y = sin(x)$ \n",
    "- `Test data` - тестовая выборка\n",
    "- `Prediction` - результирующая аппроксимирующая функция, полученнная с помошью нейронной сети библиотеки neupy\n",
    "\n",
    "На картинке заметно, что 33% тестовых данных было недостаточно для того, чтобы смоделировать достаточно точную аппроксимирующую функцию для тестовой выборки, из-за чего видно несоответствие графиков в местах максимального изменения аргументов функции (на сгибах)."
   ]
  },
  {
   "cell_type": "markdown",
   "metadata": {},
   "source": [
    "<div id='analysis'/>\n",
    "\n",
    "## Анализ таблицы метеорологических данных Австралии"
   ]
  },
  {
   "cell_type": "markdown",
   "metadata": {},
   "source": [
    "Задача заполнения пропусков в метеорологических данных Австралии\n",
    "\n",
    "Набор данных: https://www.kaggle.com/jsphyg/weather-dataset-rattle-package\n",
    "\n",
    "- препроцессинг данных для обучения модели\n",
    "- обучение модели нейронной сети CMAC\n",
    "- восстановление пропусков в таблице"
   ]
  },
  {
   "cell_type": "markdown",
   "metadata": {},
   "source": [
    "### Препроцессинг данных для обучения модели"
   ]
  },
  {
   "cell_type": "code",
   "execution_count": 24,
   "metadata": {},
   "outputs": [],
   "source": [
    "# получаем исходные данные\n",
    "australia_df = pd.read_csv(\"data/weatherAUS.csv\")"
   ]
  },
  {
   "cell_type": "code",
   "execution_count": 25,
   "metadata": {},
   "outputs": [
    {
     "data": {
      "text/html": [
       "<div>\n",
       "<style scoped>\n",
       "    .dataframe tbody tr th:only-of-type {\n",
       "        vertical-align: middle;\n",
       "    }\n",
       "\n",
       "    .dataframe tbody tr th {\n",
       "        vertical-align: top;\n",
       "    }\n",
       "\n",
       "    .dataframe thead th {\n",
       "        text-align: right;\n",
       "    }\n",
       "</style>\n",
       "<table border=\"1\" class=\"dataframe\">\n",
       "  <thead>\n",
       "    <tr style=\"text-align: right;\">\n",
       "      <th></th>\n",
       "      <th>Date</th>\n",
       "      <th>Location</th>\n",
       "      <th>MinTemp</th>\n",
       "      <th>MaxTemp</th>\n",
       "      <th>Rainfall</th>\n",
       "      <th>Evaporation</th>\n",
       "      <th>Sunshine</th>\n",
       "      <th>WindGustDir</th>\n",
       "      <th>WindGustSpeed</th>\n",
       "      <th>WindDir9am</th>\n",
       "      <th>...</th>\n",
       "      <th>Humidity3pm</th>\n",
       "      <th>Pressure9am</th>\n",
       "      <th>Pressure3pm</th>\n",
       "      <th>Cloud9am</th>\n",
       "      <th>Cloud3pm</th>\n",
       "      <th>Temp9am</th>\n",
       "      <th>Temp3pm</th>\n",
       "      <th>RainToday</th>\n",
       "      <th>RISK_MM</th>\n",
       "      <th>RainTomorrow</th>\n",
       "    </tr>\n",
       "  </thead>\n",
       "  <tbody>\n",
       "    <tr>\n",
       "      <th>0</th>\n",
       "      <td>2008-12-01</td>\n",
       "      <td>Albury</td>\n",
       "      <td>13.4</td>\n",
       "      <td>22.9</td>\n",
       "      <td>0.6</td>\n",
       "      <td>NaN</td>\n",
       "      <td>NaN</td>\n",
       "      <td>W</td>\n",
       "      <td>44.0</td>\n",
       "      <td>W</td>\n",
       "      <td>...</td>\n",
       "      <td>22.0</td>\n",
       "      <td>1007.7</td>\n",
       "      <td>1007.1</td>\n",
       "      <td>8.0</td>\n",
       "      <td>NaN</td>\n",
       "      <td>16.9</td>\n",
       "      <td>21.8</td>\n",
       "      <td>No</td>\n",
       "      <td>0.0</td>\n",
       "      <td>No</td>\n",
       "    </tr>\n",
       "    <tr>\n",
       "      <th>1</th>\n",
       "      <td>2008-12-02</td>\n",
       "      <td>Albury</td>\n",
       "      <td>7.4</td>\n",
       "      <td>25.1</td>\n",
       "      <td>0.0</td>\n",
       "      <td>NaN</td>\n",
       "      <td>NaN</td>\n",
       "      <td>WNW</td>\n",
       "      <td>44.0</td>\n",
       "      <td>NNW</td>\n",
       "      <td>...</td>\n",
       "      <td>25.0</td>\n",
       "      <td>1010.6</td>\n",
       "      <td>1007.8</td>\n",
       "      <td>NaN</td>\n",
       "      <td>NaN</td>\n",
       "      <td>17.2</td>\n",
       "      <td>24.3</td>\n",
       "      <td>No</td>\n",
       "      <td>0.0</td>\n",
       "      <td>No</td>\n",
       "    </tr>\n",
       "    <tr>\n",
       "      <th>2</th>\n",
       "      <td>2008-12-03</td>\n",
       "      <td>Albury</td>\n",
       "      <td>12.9</td>\n",
       "      <td>25.7</td>\n",
       "      <td>0.0</td>\n",
       "      <td>NaN</td>\n",
       "      <td>NaN</td>\n",
       "      <td>WSW</td>\n",
       "      <td>46.0</td>\n",
       "      <td>W</td>\n",
       "      <td>...</td>\n",
       "      <td>30.0</td>\n",
       "      <td>1007.6</td>\n",
       "      <td>1008.7</td>\n",
       "      <td>NaN</td>\n",
       "      <td>2.0</td>\n",
       "      <td>21.0</td>\n",
       "      <td>23.2</td>\n",
       "      <td>No</td>\n",
       "      <td>0.0</td>\n",
       "      <td>No</td>\n",
       "    </tr>\n",
       "    <tr>\n",
       "      <th>3</th>\n",
       "      <td>2008-12-04</td>\n",
       "      <td>Albury</td>\n",
       "      <td>9.2</td>\n",
       "      <td>28.0</td>\n",
       "      <td>0.0</td>\n",
       "      <td>NaN</td>\n",
       "      <td>NaN</td>\n",
       "      <td>NE</td>\n",
       "      <td>24.0</td>\n",
       "      <td>SE</td>\n",
       "      <td>...</td>\n",
       "      <td>16.0</td>\n",
       "      <td>1017.6</td>\n",
       "      <td>1012.8</td>\n",
       "      <td>NaN</td>\n",
       "      <td>NaN</td>\n",
       "      <td>18.1</td>\n",
       "      <td>26.5</td>\n",
       "      <td>No</td>\n",
       "      <td>1.0</td>\n",
       "      <td>No</td>\n",
       "    </tr>\n",
       "    <tr>\n",
       "      <th>4</th>\n",
       "      <td>2008-12-05</td>\n",
       "      <td>Albury</td>\n",
       "      <td>17.5</td>\n",
       "      <td>32.3</td>\n",
       "      <td>1.0</td>\n",
       "      <td>NaN</td>\n",
       "      <td>NaN</td>\n",
       "      <td>W</td>\n",
       "      <td>41.0</td>\n",
       "      <td>ENE</td>\n",
       "      <td>...</td>\n",
       "      <td>33.0</td>\n",
       "      <td>1010.8</td>\n",
       "      <td>1006.0</td>\n",
       "      <td>7.0</td>\n",
       "      <td>8.0</td>\n",
       "      <td>17.8</td>\n",
       "      <td>29.7</td>\n",
       "      <td>No</td>\n",
       "      <td>0.2</td>\n",
       "      <td>No</td>\n",
       "    </tr>\n",
       "  </tbody>\n",
       "</table>\n",
       "<p>5 rows × 24 columns</p>\n",
       "</div>"
      ],
      "text/plain": [
       "         Date Location  MinTemp  MaxTemp  Rainfall  Evaporation  Sunshine  \\\n",
       "0  2008-12-01   Albury     13.4     22.9       0.6          NaN       NaN   \n",
       "1  2008-12-02   Albury      7.4     25.1       0.0          NaN       NaN   \n",
       "2  2008-12-03   Albury     12.9     25.7       0.0          NaN       NaN   \n",
       "3  2008-12-04   Albury      9.2     28.0       0.0          NaN       NaN   \n",
       "4  2008-12-05   Albury     17.5     32.3       1.0          NaN       NaN   \n",
       "\n",
       "  WindGustDir  WindGustSpeed WindDir9am      ...      Humidity3pm  \\\n",
       "0           W           44.0          W      ...             22.0   \n",
       "1         WNW           44.0        NNW      ...             25.0   \n",
       "2         WSW           46.0          W      ...             30.0   \n",
       "3          NE           24.0         SE      ...             16.0   \n",
       "4           W           41.0        ENE      ...             33.0   \n",
       "\n",
       "   Pressure9am  Pressure3pm  Cloud9am  Cloud3pm  Temp9am  Temp3pm  RainToday  \\\n",
       "0       1007.7       1007.1       8.0       NaN     16.9     21.8         No   \n",
       "1       1010.6       1007.8       NaN       NaN     17.2     24.3         No   \n",
       "2       1007.6       1008.7       NaN       2.0     21.0     23.2         No   \n",
       "3       1017.6       1012.8       NaN       NaN     18.1     26.5         No   \n",
       "4       1010.8       1006.0       7.0       8.0     17.8     29.7         No   \n",
       "\n",
       "   RISK_MM  RainTomorrow  \n",
       "0      0.0            No  \n",
       "1      0.0            No  \n",
       "2      0.0            No  \n",
       "3      1.0            No  \n",
       "4      0.2            No  \n",
       "\n",
       "[5 rows x 24 columns]"
      ]
     },
     "execution_count": 25,
     "metadata": {},
     "output_type": "execute_result"
    }
   ],
   "source": [
    "australia_df.head()"
   ]
  },
  {
   "cell_type": "markdown",
   "metadata": {},
   "source": [
    "Для обзора рассмотрим топ 16 самых населенных городов: Sydney, Brisbane, Perth, Wollongong, Geelong, Townsville, Cairns, Darwin, Toowoomba."
   ]
  },
  {
   "cell_type": "code",
   "execution_count": 26,
   "metadata": {},
   "outputs": [],
   "source": [
    "locations = [\n",
    "    'Sydney',  'Brisbane', 'Perth', 'Wollongong', 'Darwin', 'Ballarat', 'Bendigo', 'Launceston', \n",
    "    'Witchcliffe', 'Katherine', 'Richmond', 'Tuggeranong', 'WaggaWagga', 'AliceSprings', 'Williamtown', 'Uluru'\n",
    "]\n",
    "\n",
    "# выбираем только нужные нам локации\n",
    "australia_full = australia_df.loc[australia_df['Location'].isin(locations)]"
   ]
  },
  {
   "cell_type": "markdown",
   "metadata": {},
   "source": [
    "Для создания таблицы будем использовать только *город*, *дату* и *темпереатуру* (среднее арифметическое максимальной и минимальной температуры)"
   ]
  },
  {
   "cell_type": "code",
   "execution_count": 27,
   "metadata": {},
   "outputs": [],
   "source": [
    "australia_full = australia_full.loc[:, ['Location', 'Date', 'MinTemp', 'MaxTemp']] \n",
    "australia_full['Temperature'] = round((australia_full['MaxTemp'] + australia_full['MinTemp']) / 2, 1)\n",
    "\n",
    "australia = australia_full.copy()\n",
    "australia = australia.drop(['MinTemp', 'MaxTemp'], axis=1)"
   ]
  },
  {
   "cell_type": "code",
   "execution_count": 28,
   "metadata": {},
   "outputs": [],
   "source": [
    "# получаем один список, вместо списка списков\n",
    "flatten = lambda l: [item for sublist in l for item in sublist]"
   ]
  },
  {
   "cell_type": "markdown",
   "metadata": {},
   "source": [
    "Для упрощения восприятия возьмем очень ограниченные набор данных, чтобы уместить его в одну таблицу.\n",
    "\n",
    "Для обучающей выборки ограничимся промежутком одну неделю: с `01.01.2015` по `07.01.2015`, для тестовой выборки возьмем тот же интервал, но на два года позже: с `01.01.2017` по `07.01.2017`."
   ]
  },
  {
   "cell_type": "code",
   "execution_count": 29,
   "metadata": {},
   "outputs": [],
   "source": [
    "australia_2015 = australia.loc[(australia['Date'] >= '2015-01-01') & (australia['Date'] <= '2015-01-07')]\n",
    "australia_2017 = australia.loc[(australia['Date'] >= '2017-01-01') & (australia['Date'] <= '2017-01-07')]"
   ]
  },
  {
   "cell_type": "markdown",
   "metadata": {},
   "source": [
    "Напишем отдельную функцию для красивого вывода таблиц, с учетом пропущенных данных."
   ]
  },
  {
   "cell_type": "code",
   "execution_count": 30,
   "metadata": {},
   "outputs": [],
   "source": [
    "def print_table(australia_):\n",
    "    dates = sorted(list(set(australia_['Date'])))\n",
    "    pretty_table = PrettyTable([''] + dates)\n",
    "\n",
    "    for location in locations:\n",
    "        location_data = australia_.loc[australia_['Location'] == location, ['Date', 'Temperature']]\n",
    "        location_temperatures = []\n",
    "        for date in dates:\n",
    "            location_temperature = location_data.loc[location_data['Date'] == date, ['Temperature']]\n",
    "            if not location_temperature.empty:\n",
    "                location_temperatures.append(location_temperature['Temperature'].iloc[0])\n",
    "            else:\n",
    "                location_temperatures.append('')\n",
    "        pretty_table.add_row([location] + location_temperatures)\n",
    "\n",
    "    print(pretty_table)"
   ]
  },
  {
   "cell_type": "markdown",
   "metadata": {},
   "source": [
    "Выведем получившиеся таблицы с данными за 2015 и 2017 год. \n",
    "\n",
    "На оси абсцисс отображено **время**, на оси ординат - **города**. Значение ячеек - **температура** в градусах Цельсия."
   ]
  },
  {
   "cell_type": "code",
   "execution_count": 31,
   "metadata": {},
   "outputs": [
    {
     "name": "stdout",
     "output_type": "stream",
     "text": [
      "+--------------+------------+------------+------------+------------+------------+------------+------------+\n",
      "|              | 2015-01-01 | 2015-01-02 | 2015-01-03 | 2015-01-04 | 2015-01-05 | 2015-01-06 | 2015-01-07 |\n",
      "+--------------+------------+------------+------------+------------+------------+------------+------------+\n",
      "|    Sydney    |    24.9    |    24.8    |    25.4    |    26.4    |    23.4    |    24.8    |    26.0    |\n",
      "|   Brisbane   |    28.2    |    27.6    |    26.8    |    25.6    |    25.0    |    25.5    |    23.8    |\n",
      "|    Perth     |    23.0    |    20.9    |    22.6    |    25.5    |    33.8    |    27.8    |    27.0    |\n",
      "|  Wollongong  |    22.2    |    22.6    |    23.1    |    23.4    |    21.3    |    22.5    |    23.8    |\n",
      "|    Darwin    |    25.3    |    26.6    |    27.2    |    26.9    |    28.1    |    28.6    |    28.7    |\n",
      "|   Ballarat   |    17.3    |    24.9    |    30.6    |    18.0    |    18.2    |    21.8    |    25.8    |\n",
      "|   Bendigo    |    21.0    |    28.2    |    32.1    |    24.4    |    23.4    |    25.4    |    30.1    |\n",
      "|  Launceston  |    18.7    |    17.7    |    23.8    |    23.1    |    19.0    |    19.4    |    19.7    |\n",
      "| Witchcliffe  |    17.8    |    17.6    |    16.8    |    19.8    |    23.6    |    22.6    |    19.9    |\n",
      "|  Katherine   |    27.4    |    28.2    |    28.5    |    27.9    |    27.9    |    28.5    |    29.2    |\n",
      "|   Richmond   |    26.4    |    27.0    |    27.8    |    28.3    |    23.8    |    25.4    |    26.6    |\n",
      "| Tuggeranong  |    24.4    |    23.4    |    24.5    |    25.5    |    22.2    |    22.6    |    22.5    |\n",
      "|  WaggaWagga  |    22.9    |    30.0    |    28.2    |    27.8    |    27.7    |    28.4    |    29.4    |\n",
      "| AliceSprings |    30.0    |    32.6    |    31.3    |    26.9    |    24.9    |    26.8    |    25.4    |\n",
      "| Williamtown  |    27.0    |    25.8    |    25.4    |    27.2    |    23.4    |    25.0    |    25.2    |\n",
      "|    Uluru     |    32.3    |    32.0    |    31.6    |    31.7    |    32.4    |    30.5    |    26.3    |\n",
      "+--------------+------------+------------+------------+------------+------------+------------+------------+\n"
     ]
    }
   ],
   "source": [
    "print_table(australia_2015)"
   ]
  },
  {
   "cell_type": "code",
   "execution_count": 32,
   "metadata": {},
   "outputs": [
    {
     "name": "stdout",
     "output_type": "stream",
     "text": [
      "+--------------+------------+------------+------------+------------+------------+------------+------------+\n",
      "|              | 2017-01-01 | 2017-01-02 | 2017-01-03 | 2017-01-04 | 2017-01-05 | 2017-01-06 | 2017-01-07 |\n",
      "+--------------+------------+------------+------------+------------+------------+------------+------------+\n",
      "|    Sydney    |    24.6    |    23.8    |    22.6    |    23.0    |    22.0    |    23.2    |    23.0    |\n",
      "|   Brisbane   |    29.8    |    29.3    |    24.6    |    26.0    |    25.4    |    24.8    |    25.1    |\n",
      "|    Perth     |    23.8    |    27.6    |    29.1    |    29.9    |    22.4    |    20.0    |    19.4    |\n",
      "|  Wollongong  |    22.5    |    21.4    |    20.0    |    21.6    |    21.0    |    22.5    |    22.2    |\n",
      "|    Darwin    |    27.4    |    27.0    |    26.8    |    28.5    |    28.8    |    28.6    |    30.0    |\n",
      "|   Ballarat   |    16.4    |    15.1    |    16.8    |    21.4    |    24.5    |    25.3    |    25.9    |\n",
      "|   Bendigo    |    20.3    |    20.2    |    20.4    |    24.0    |    26.5    |    28.0    |    29.0    |\n",
      "|  Launceston  |    17.2    |    20.7    |    19.3    |    19.0    |    19.6    |    22.0    |    21.7    |\n",
      "| Witchcliffe  |    17.4    |    22.3    |    23.8    |    25.2    |    20.2    |    17.0    |    18.8    |\n",
      "|  Katherine   |    25.8    |    27.1    |    29.4    |    29.9    |    30.2    |    30.5    |    30.0    |\n",
      "|   Richmond   |    25.6    |    24.0    |    22.8    |    22.9    |    21.5    |    23.0    |    23.6    |\n",
      "| Tuggeranong  |    21.0    |    21.3    |    20.5    |    18.9    |    20.5    |    22.3    |    22.2    |\n",
      "|  WaggaWagga  |    23.7    |    23.5    |    24.4    |    24.4    |    25.4    |    27.5    |    27.0    |\n",
      "| AliceSprings |    25.6    |    27.0    |    26.0    |    27.4    |    30.5    |    30.2    |    30.6    |\n",
      "| Williamtown  |    25.0    |    23.2    |    21.6    |    22.3    |    23.2    |    22.6    |    22.5    |\n",
      "|    Uluru     |    29.2    |    28.0    |    28.4    |    29.4    |    31.4    |    32.0    |    33.2    |\n",
      "+--------------+------------+------------+------------+------------+------------+------------+------------+\n"
     ]
    }
   ],
   "source": [
    "print_table(australia_2017)"
   ]
  },
  {
   "cell_type": "markdown",
   "metadata": {},
   "source": [
    "Представим, что данные за 2017 год частично были потеряны и произвольно удалим 33% значений в таблице."
   ]
  },
  {
   "cell_type": "code",
   "execution_count": 33,
   "metadata": {},
   "outputs": [],
   "source": [
    "x_train, x_test, y_train, y_test = train_test_split(\n",
    "    australia_2017[['Location', 'Date']],\n",
    "    australia_2017[['Temperature']],\n",
    "    test_size=0.33\n",
    ")"
   ]
  },
  {
   "cell_type": "markdown",
   "metadata": {},
   "source": [
    "Выведем получившуюся таблицу с пропущенными данными."
   ]
  },
  {
   "cell_type": "code",
   "execution_count": 34,
   "metadata": {},
   "outputs": [
    {
     "name": "stdout",
     "output_type": "stream",
     "text": [
      "+--------------+------------+------------+------------+------------+------------+------------+------------+\n",
      "|              | 2017-01-01 | 2017-01-02 | 2017-01-03 | 2017-01-04 | 2017-01-05 | 2017-01-06 | 2017-01-07 |\n",
      "+--------------+------------+------------+------------+------------+------------+------------+------------+\n",
      "|    Sydney    |            |            |    22.6    |            |            |    23.2    |    23.0    |\n",
      "|   Brisbane   |            |            |    24.6    |            |            |    24.8    |    25.1    |\n",
      "|    Perth     |    23.8    |            |    29.1    |    29.9    |            |            |    19.4    |\n",
      "|  Wollongong  |    22.5    |    21.4    |    20.0    |            |    21.0    |    22.5    |    22.2    |\n",
      "|    Darwin    |    27.4    |    27.0    |    26.8    |            |            |            |            |\n",
      "|   Ballarat   |    16.4    |    15.1    |            |    21.4    |    24.5    |    25.3    |            |\n",
      "|   Bendigo    |    20.3    |            |            |    24.0    |            |    28.0    |    29.0    |\n",
      "|  Launceston  |    17.2    |            |    19.3    |    19.0    |            |    22.0    |            |\n",
      "| Witchcliffe  |    17.4    |            |            |    25.2    |    20.2    |            |    18.8    |\n",
      "|  Katherine   |            |    27.1    |    29.4    |    29.9    |    30.2    |    30.5    |            |\n",
      "|   Richmond   |            |    24.0    |    22.8    |    22.9    |    21.5    |    23.0    |    23.6    |\n",
      "| Tuggeranong  |    21.0    |    21.3    |    20.5    |    18.9    |    20.5    |    22.3    |            |\n",
      "|  WaggaWagga  |            |    23.5    |    24.4    |    24.4    |    25.4    |    27.5    |            |\n",
      "| AliceSprings |    25.6    |    27.0    |    26.0    |    27.4    |    30.5    |    30.2    |    30.6    |\n",
      "| Williamtown  |    25.0    |    23.2    |    21.6    |    22.3    |    23.2    |    22.6    |            |\n",
      "|    Uluru     |    29.2    |    28.0    |            |            |            |    32.0    |    33.2    |\n",
      "+--------------+------------+------------+------------+------------+------------+------------+------------+\n"
     ]
    }
   ],
   "source": [
    "print_table(x_train.join(y_train))"
   ]
  },
  {
   "cell_type": "markdown",
   "metadata": {},
   "source": [
    "Преобразуем все строковые значения (колонки *Location* и *Date*) в числовые для того, чтобы удовлетворить требоания сети CMAC."
   ]
  },
  {
   "cell_type": "code",
   "execution_count": 35,
   "metadata": {},
   "outputs": [
    {
     "data": {
      "text/html": [
       "<div>\n",
       "<style scoped>\n",
       "    .dataframe tbody tr th:only-of-type {\n",
       "        vertical-align: middle;\n",
       "    }\n",
       "\n",
       "    .dataframe tbody tr th {\n",
       "        vertical-align: top;\n",
       "    }\n",
       "\n",
       "    .dataframe thead th {\n",
       "        text-align: right;\n",
       "    }\n",
       "</style>\n",
       "<table border=\"1\" class=\"dataframe\">\n",
       "  <thead>\n",
       "    <tr style=\"text-align: right;\">\n",
       "      <th></th>\n",
       "      <th>Location</th>\n",
       "      <th>Date</th>\n",
       "      <th>Temperature</th>\n",
       "    </tr>\n",
       "  </thead>\n",
       "  <tbody>\n",
       "    <tr>\n",
       "      <th>28593</th>\n",
       "      <td>Richmond</td>\n",
       "      <td>2015-01-01</td>\n",
       "      <td>26.4</td>\n",
       "    </tr>\n",
       "    <tr>\n",
       "      <th>28594</th>\n",
       "      <td>Richmond</td>\n",
       "      <td>2015-01-02</td>\n",
       "      <td>27.0</td>\n",
       "    </tr>\n",
       "    <tr>\n",
       "      <th>28595</th>\n",
       "      <td>Richmond</td>\n",
       "      <td>2015-01-03</td>\n",
       "      <td>27.8</td>\n",
       "    </tr>\n",
       "    <tr>\n",
       "      <th>28596</th>\n",
       "      <td>Richmond</td>\n",
       "      <td>2015-01-04</td>\n",
       "      <td>28.3</td>\n",
       "    </tr>\n",
       "    <tr>\n",
       "      <th>28597</th>\n",
       "      <td>Richmond</td>\n",
       "      <td>2015-01-05</td>\n",
       "      <td>23.8</td>\n",
       "    </tr>\n",
       "  </tbody>\n",
       "</table>\n",
       "</div>"
      ],
      "text/plain": [
       "       Location        Date  Temperature\n",
       "28593  Richmond  2015-01-01         26.4\n",
       "28594  Richmond  2015-01-02         27.0\n",
       "28595  Richmond  2015-01-03         27.8\n",
       "28596  Richmond  2015-01-04         28.3\n",
       "28597  Richmond  2015-01-05         23.8"
      ]
     },
     "execution_count": 35,
     "metadata": {},
     "output_type": "execute_result"
    }
   ],
   "source": [
    "australia_2015.head()"
   ]
  },
  {
   "cell_type": "code",
   "execution_count": 36,
   "metadata": {},
   "outputs": [],
   "source": [
    "# зменяем все строковые даты на числа дня, e.g.: 2017-01-03 -> 3\n",
    "dates = australia_2015.append(australia_2017)['Date'].unique()\n",
    "date_replace = {date: int(date.split('-')[2]) for date in dates}\n",
    "\n",
    "# заменяем все локации их индексами в массиве \n",
    "location_replace = {location: index for index, location in enumerate(locations)}"
   ]
  },
  {
   "cell_type": "code",
   "execution_count": 37,
   "metadata": {},
   "outputs": [],
   "source": [
    "australia_2015['Date'].replace(date_replace, inplace=True)\n",
    "australia_2015['Location'].replace(location_replace, inplace=True)"
   ]
  },
  {
   "cell_type": "code",
   "execution_count": 38,
   "metadata": {},
   "outputs": [
    {
     "data": {
      "text/html": [
       "<div>\n",
       "<style scoped>\n",
       "    .dataframe tbody tr th:only-of-type {\n",
       "        vertical-align: middle;\n",
       "    }\n",
       "\n",
       "    .dataframe tbody tr th {\n",
       "        vertical-align: top;\n",
       "    }\n",
       "\n",
       "    .dataframe thead th {\n",
       "        text-align: right;\n",
       "    }\n",
       "</style>\n",
       "<table border=\"1\" class=\"dataframe\">\n",
       "  <thead>\n",
       "    <tr style=\"text-align: right;\">\n",
       "      <th></th>\n",
       "      <th>Location</th>\n",
       "      <th>Date</th>\n",
       "      <th>Temperature</th>\n",
       "    </tr>\n",
       "  </thead>\n",
       "  <tbody>\n",
       "    <tr>\n",
       "      <th>28593</th>\n",
       "      <td>10</td>\n",
       "      <td>1</td>\n",
       "      <td>26.4</td>\n",
       "    </tr>\n",
       "    <tr>\n",
       "      <th>28594</th>\n",
       "      <td>10</td>\n",
       "      <td>2</td>\n",
       "      <td>27.0</td>\n",
       "    </tr>\n",
       "    <tr>\n",
       "      <th>28595</th>\n",
       "      <td>10</td>\n",
       "      <td>3</td>\n",
       "      <td>27.8</td>\n",
       "    </tr>\n",
       "    <tr>\n",
       "      <th>28596</th>\n",
       "      <td>10</td>\n",
       "      <td>4</td>\n",
       "      <td>28.3</td>\n",
       "    </tr>\n",
       "    <tr>\n",
       "      <th>28597</th>\n",
       "      <td>10</td>\n",
       "      <td>5</td>\n",
       "      <td>23.8</td>\n",
       "    </tr>\n",
       "  </tbody>\n",
       "</table>\n",
       "</div>"
      ],
      "text/plain": [
       "       Location  Date  Temperature\n",
       "28593        10     1         26.4\n",
       "28594        10     2         27.0\n",
       "28595        10     3         27.8\n",
       "28596        10     4         28.3\n",
       "28597        10     5         23.8"
      ]
     },
     "execution_count": 38,
     "metadata": {},
     "output_type": "execute_result"
    }
   ],
   "source": [
    "australia_2015.head()"
   ]
  },
  {
   "cell_type": "markdown",
   "metadata": {},
   "source": [
    "На данном этапе все данные подготовлены и можно приступить к обучению модели."
   ]
  },
  {
   "cell_type": "markdown",
   "metadata": {},
   "source": [
    "### Обучение модели нейронной сети CMAC"
   ]
  },
  {
   "cell_type": "code",
   "execution_count": 39,
   "metadata": {},
   "outputs": [],
   "source": [
    "# создаем CMAC объект для обучения\n",
    "cmac_australia = algorithms.CMAC(quantization=100,associative_unit_size=32,step=0.2)"
   ]
  },
  {
   "cell_type": "code",
   "execution_count": 40,
   "metadata": {},
   "outputs": [
    {
     "name": "stderr",
     "output_type": "stream",
     "text": [
      "                                                                               \r"
     ]
    }
   ],
   "source": [
    "# обучаем модель на данных 2015 года\n",
    "cmac_australia.train(australia_2015[['Location', 'Date']], australia_2015[['Temperature']], epochs=100)"
   ]
  },
  {
   "cell_type": "markdown",
   "metadata": {},
   "source": [
    "### Восстановление пропусков в таблице"
   ]
  },
  {
   "cell_type": "markdown",
   "metadata": {},
   "source": [
    "Сделаем соответствующие замены для даты и места в тестовой выборке."
   ]
  },
  {
   "cell_type": "code",
   "execution_count": 41,
   "metadata": {},
   "outputs": [],
   "source": [
    "x_test['Date'].replace(date_replace, inplace=True)\n",
    "x_test['Location'].replace(location_replace, inplace=True)"
   ]
  },
  {
   "cell_type": "markdown",
   "metadata": {},
   "source": [
    "Выполним предсказание для тестовой выборки, исходя из параметров обученной модели."
   ]
  },
  {
   "cell_type": "code",
   "execution_count": 42,
   "metadata": {},
   "outputs": [],
   "source": [
    "predicted_test = cmac_australia.predict(x_test)"
   ]
  },
  {
   "cell_type": "markdown",
   "metadata": {},
   "source": [
    "Выполним аналогичные обратные преобразования для даты и места."
   ]
  },
  {
   "cell_type": "code",
   "execution_count": 43,
   "metadata": {},
   "outputs": [],
   "source": [
    "date_replace_reverse = {value: key for key, value in date_replace.items()}\n",
    "location_replace_reverse = {value: key for key, value in location_replace.items()}"
   ]
  },
  {
   "cell_type": "code",
   "execution_count": 44,
   "metadata": {},
   "outputs": [],
   "source": [
    "x_test['Date'].replace(date_replace_reverse, inplace=True)\n",
    "x_test['Location'].replace(location_replace_reverse, inplace=True)"
   ]
  },
  {
   "cell_type": "code",
   "execution_count": 45,
   "metadata": {},
   "outputs": [],
   "source": [
    "predicted_test = pd.DataFrame({'Temperature': flatten(predicted_test)}, index=x_test.index)"
   ]
  },
  {
   "cell_type": "markdown",
   "metadata": {},
   "source": [
    "Объеденим обучающую и тестовоую выборки."
   ]
  },
  {
   "cell_type": "code",
   "execution_count": 46,
   "metadata": {},
   "outputs": [],
   "source": [
    "train = x_train.join(y_train)\n",
    "test = x_test.join(predicted_test)"
   ]
  },
  {
   "cell_type": "markdown",
   "metadata": {},
   "source": [
    "Получим окончательный результат, представив таблицу с пропусками (объединение аргументов и значений обучающей выборки) и заполненную таблицу (объединение обучающейся и полученной тестовой выборки)."
   ]
  },
  {
   "cell_type": "code",
   "execution_count": 47,
   "metadata": {},
   "outputs": [
    {
     "name": "stdout",
     "output_type": "stream",
     "text": [
      "+--------------+------------+------------+------------+------------+------------+------------+------------+\n",
      "|              | 2017-01-01 | 2017-01-02 | 2017-01-03 | 2017-01-04 | 2017-01-05 | 2017-01-06 | 2017-01-07 |\n",
      "+--------------+------------+------------+------------+------------+------------+------------+------------+\n",
      "|    Sydney    |            |            |    22.6    |            |            |    23.2    |    23.0    |\n",
      "|   Brisbane   |            |            |    24.6    |            |            |    24.8    |    25.1    |\n",
      "|    Perth     |    23.8    |            |    29.1    |    29.9    |            |            |    19.4    |\n",
      "|  Wollongong  |    22.5    |    21.4    |    20.0    |            |    21.0    |    22.5    |    22.2    |\n",
      "|    Darwin    |    27.4    |    27.0    |    26.8    |            |            |            |            |\n",
      "|   Ballarat   |    16.4    |    15.1    |            |    21.4    |    24.5    |    25.3    |            |\n",
      "|   Bendigo    |    20.3    |            |            |    24.0    |            |    28.0    |    29.0    |\n",
      "|  Launceston  |    17.2    |            |    19.3    |    19.0    |            |    22.0    |            |\n",
      "| Witchcliffe  |    17.4    |            |            |    25.2    |    20.2    |            |    18.8    |\n",
      "|  Katherine   |            |    27.1    |    29.4    |    29.9    |    30.2    |    30.5    |            |\n",
      "|   Richmond   |            |    24.0    |    22.8    |    22.9    |    21.5    |    23.0    |    23.6    |\n",
      "| Tuggeranong  |    21.0    |    21.3    |    20.5    |    18.9    |    20.5    |    22.3    |            |\n",
      "|  WaggaWagga  |            |    23.5    |    24.4    |    24.4    |    25.4    |    27.5    |            |\n",
      "| AliceSprings |    25.6    |    27.0    |    26.0    |    27.4    |    30.5    |    30.2    |    30.6    |\n",
      "| Williamtown  |    25.0    |    23.2    |    21.6    |    22.3    |    23.2    |    22.6    |            |\n",
      "|    Uluru     |    29.2    |    28.0    |            |            |            |    32.0    |    33.2    |\n",
      "+--------------+------------+------------+------------+------------+------------+------------+------------+\n"
     ]
    }
   ],
   "source": [
    "print_table(train)"
   ]
  },
  {
   "cell_type": "code",
   "execution_count": 48,
   "metadata": {},
   "outputs": [
    {
     "name": "stdout",
     "output_type": "stream",
     "text": [
      "+--------------+------------+------------+------------+------------+------------+------------+------------+\n",
      "|              | 2017-01-01 | 2017-01-02 | 2017-01-03 | 2017-01-04 | 2017-01-05 | 2017-01-06 | 2017-01-07 |\n",
      "+--------------+------------+------------+------------+------------+------------+------------+------------+\n",
      "|    Sydney    |    24.9    |    24.8    |    22.6    |    26.4    |    23.4    |    23.2    |    23.0    |\n",
      "|   Brisbane   |    28.2    |    27.6    |    24.6    |    25.6    |    25.0    |    24.8    |    25.1    |\n",
      "|    Perth     |    23.8    |    20.9    |    29.1    |    29.9    |    33.8    |    27.8    |    19.4    |\n",
      "|  Wollongong  |    22.5    |    21.4    |    20.0    |    23.4    |    21.0    |    22.5    |    22.2    |\n",
      "|    Darwin    |    27.4    |    27.0    |    26.8    |    26.9    |    28.1    |    28.6    |    28.7    |\n",
      "|   Ballarat   |    16.4    |    15.1    |    30.6    |    21.4    |    24.5    |    25.3    |    25.8    |\n",
      "|   Bendigo    |    20.3    |    28.2    |    32.1    |    24.0    |    23.4    |    28.0    |    29.0    |\n",
      "|  Launceston  |    17.2    |    17.7    |    19.3    |    19.0    |    19.0    |    22.0    |    19.7    |\n",
      "| Witchcliffe  |    17.4    |    17.6    |    16.8    |    25.2    |    20.2    |    22.6    |    18.8    |\n",
      "|  Katherine   |    27.4    |    27.1    |    29.4    |    29.9    |    30.2    |    30.5    |    29.2    |\n",
      "|   Richmond   |    26.4    |    24.0    |    22.8    |    22.9    |    21.5    |    23.0    |    23.6    |\n",
      "| Tuggeranong  |    21.0    |    21.3    |    20.5    |    18.9    |    20.5    |    22.3    |    22.5    |\n",
      "|  WaggaWagga  |    22.9    |    23.5    |    24.4    |    24.4    |    25.4    |    27.5    |    29.4    |\n",
      "| AliceSprings |    25.6    |    27.0    |    26.0    |    27.4    |    30.5    |    30.2    |    30.6    |\n",
      "| Williamtown  |    25.0    |    23.2    |    21.6    |    22.3    |    23.2    |    22.6    |    25.2    |\n",
      "|    Uluru     |    29.2    |    28.0    |    31.6    |    31.7    |    32.4    |    32.0    |    33.2    |\n",
      "+--------------+------------+------------+------------+------------+------------+------------+------------+\n"
     ]
    }
   ],
   "source": [
    "print_table(train.append(test).round(1))"
   ]
  },
  {
   "cell_type": "markdown",
   "metadata": {},
   "source": [
    "## Источники"
   ]
  },
  {
   "cell_type": "markdown",
   "metadata": {},
   "source": [
    "- *Аведьян Э.Д., Луганский В.Э.* Подход к задаче заполнения числовых пропусков в таблицах и строках, основанный на многослойной нейронной сети и нейронной сети СМАС // Информационные технологии, 2014. No. 1., C. 58 – 66\n",
    "\n",
    "\n",
    "- *Аведьян Э.Д., Луганский В.Э.* Способы повышения точности заполнения числовых пропусков в таблицах, основанные на модифицированных нейронных сетях СМАС // Информационные технологии. 2014. No.5. С. 58 - 65"
   ]
  }
 ],
 "metadata": {
  "kernelspec": {
   "display_name": "Python 3",
   "language": "python",
   "name": "python3"
  },
  "language_info": {
   "codemirror_mode": {
    "name": "ipython",
    "version": 3
   },
   "file_extension": ".py",
   "mimetype": "text/x-python",
   "name": "python",
   "nbconvert_exporter": "python",
   "pygments_lexer": "ipython3",
   "version": "3.6.4"
  }
 },
 "nbformat": 4,
 "nbformat_minor": 2
}
